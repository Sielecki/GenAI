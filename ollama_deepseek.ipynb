{
 "cells": [
  {
   "cell_type": "code",
   "execution_count": 1,
   "id": "446a3625",
   "metadata": {},
   "outputs": [],
   "source": [
    "import ollama \n",
    "\n",
    "class Agent:\n",
    "    def __init__(self, name, personality, model='llama3.2', rag_engine=None, max_short_term=10):\n",
    "        self.name = name\n",
    "        self.personality = personality\n",
    "        \n",
    "        self.model = model\n",
    "        self.rag_engine = rag_engine\n",
    "\n",
    "        self.short_memory = []\n",
    "        self.long_memory = []\n",
    "        self.max_short_term = max_short_term  # Context window size\n",
    "        \n",
    "\n",
    "        self.system_prompt = f\"\"\"[Role]\n",
    "                                 You are {name}, a {personality}.\n",
    "                                 Respond ONLY as your character in 1-2 sentences.\n",
    "                                 \n",
    "                                 [Memory Context]\n",
    "                                 {self.get_memory_context()}\n",
    "                                 \n",
    "                                 [Response Format]\n",
    "                                 Action: (2-3 word physical action)\n",
    "                                 Emotion: (current emotion)\n",
    "                                 Dialogue: \"...\" \n",
    "                                 \"\"\"\n",
    "                            \n",
    "    def get_memory_context(self):\n",
    "        \"\"\"Compile relevant memories for the prompt\"\"\"\n",
    "        return \"\\n\".join([\n",
    "            \"* \" + mem for mem in \n",
    "            self.long_memory[-3:] +  # Last 3 important facts\n",
    "            self.short_memory[-self.max_short_term:]  # Recent conversation\n",
    "        ])\n",
    "    \n",
    "    def parse_response(self, response_text):\n",
    "        parts = {\n",
    "            'action': 'Unknown',\n",
    "            'emotion': 'Neutral',\n",
    "            'dialogue': response_text  # Default fallback\n",
    "        }\n",
    "        \n",
    "        try:\n",
    "            lines = response_text.split('\\n')\n",
    "            for line in lines:\n",
    "                if line.startswith('Action:'):\n",
    "                    parts['action'] = line.replace('Action:', '').strip()\n",
    "                elif line.startswith('Emotion:'):\n",
    "                    parts['emotion'] = line.replace('Emotion:', '').strip()\n",
    "                elif line.startswith('Dialogue:'):\n",
    "                    parts['dialogue'] = line.replace('Dialogue:', '').strip()[1:-1]  # Remove quotes\n",
    "        except:\n",
    "            pass\n",
    "            \n",
    "        return parts\n",
    "    \n",
    "    def recall(self, query):\n",
    "        if self.rag_engine:\n",
    "            return self.rag_engine.search(query)\n",
    "        return [m for m in self.memory if query.lower() in m.lower()]\n",
    "\n",
    "    def prompt_agent(self, user=\"\", user_input=\"\", world_state=\"\"):\n",
    "    \n",
    "        self.short_memory.append(f\"{user} said: {user_input}\")\n",
    "\n",
    "        response = ollama.chat(\n",
    "            model=self.model,\n",
    "            messages=[\n",
    "                {'role': 'system', 'content': self.system_prompt},\n",
    "                {'role': 'user', 'content': user_input}\n",
    "            ]\n",
    "        )\n",
    "        self.short_memory.append(f\"I responded: {user_input}\")\n",
    "        reply = self.parse_response(response['message']['content'])\n",
    "        \n",
    "        return reply, self.name"
   ]
  },
  {
   "cell_type": "code",
   "execution_count": 2,
   "id": "8e014cbc",
   "metadata": {},
   "outputs": [
    {
     "name": "stdout",
     "output_type": "stream",
     "text": [
      "Aegon the Brave: Charge!\n",
      "Action: Charge\n",
      "Emotion: Arrogant\n"
     ]
    }
   ],
   "source": [
    "hero = Agent(\n",
    "    model='deepseek-r1',\n",
    "    name=\"Aegon the Brave\",\n",
    "    personality=\"Courageous, curious, slightly overconfident warrior from the Northlands.\"\n",
    ")\n",
    "\n",
    "dog = Agent(\n",
    "    model='deepseek-r1',\n",
    "    name=\"Azorica the Talking Dog\",\n",
    "    personality=\"Slightly cowardly, loyal, skilled in battle, stutters.\"\n",
    ")\n",
    "\n",
    "world_state = 'A dragon is going to attack'\n",
    "response, character_name = hero.prompt_agent(user='Narator',user_input='What are you going to do?', world_state=world_state)\n",
    "print(f\"{character_name}: {response['dialogue']}\")\n",
    "print(f\"Action: {response['action']}\")\n",
    "print(f\"Emotion: {response['emotion']}\")"
   ]
  },
  {
   "cell_type": "code",
   "execution_count": null,
   "id": "a549cc5c",
   "metadata": {},
   "outputs": [
    {
     "ename": "NameError",
     "evalue": "name 'name' is not defined",
     "output_type": "error",
     "traceback": [
      "\u001b[31m---------------------------------------------------------------------------\u001b[39m",
      "\u001b[31mNameError\u001b[39m                                 Traceback (most recent call last)",
      "\u001b[36mCell\u001b[39m\u001b[36m \u001b[39m\u001b[32mIn[3]\u001b[39m\u001b[32m, line 2\u001b[39m\n\u001b[32m      1\u001b[39m \u001b[38;5;28mself\u001b[39m.system_prompt = (\n\u001b[32m----> \u001b[39m\u001b[32m2\u001b[39m             \u001b[33mf\u001b[39m\u001b[33m\"\u001b[39m\u001b[33mYou are \u001b[39m\u001b[38;5;132;01m{\u001b[39;00m\u001b[43mname\u001b[49m\u001b[38;5;132;01m}\u001b[39;00m\u001b[33m, a character with the following traits: \u001b[39m\u001b[38;5;132;01m{\u001b[39;00mpersonality\u001b[38;5;132;01m}\u001b[39;00m\u001b[38;5;130;01m\\n\u001b[39;00m\u001b[33m\"\u001b[39m\n\u001b[32m      3\u001b[39m             \u001b[33m\"\u001b[39m\u001b[33mYou are a character in a story. You can only see the world events and the dialogues from other companions. You can\u001b[39m\u001b[33m'\u001b[39m\u001b[33mt answer for any other characters other than yourself.\u001b[39m\u001b[38;5;130;01m\\n\u001b[39;00m\u001b[33m\"\u001b[39m\n\u001b[32m      4\u001b[39m             \u001b[33m\"\u001b[39m\u001b[33mAvoid introducing new characters and try to keep the responses short. You can only talk from your character point of view.\u001b[39m\u001b[38;5;130;01m\\n\u001b[39;00m\u001b[33m\"\u001b[39m\n\u001b[32m      5\u001b[39m             \u001b[33m\"\u001b[39m\u001b[33mPlease add an action section where you describe in 2 words what your character is going to do and it\u001b[39m\u001b[33m'\u001b[39m\u001b[33ms emotional state.\u001b[39m\u001b[38;5;130;01m\\n\u001b[39;00m\u001b[33m\"\u001b[39m\n\u001b[32m      6\u001b[39m             \u001b[33m\"\u001b[39m\u001b[33mAvoid the think output and select only one response per prompt. The response should be in the following format:\u001b[39m\u001b[38;5;130;01m\\n\u001b[39;00m\u001b[33m\"\u001b[39m\n\u001b[32m      7\u001b[39m             \u001b[33m\"\u001b[39m\u001b[33mName: \u001b[39m\u001b[33m'\u001b[39m\u001b[33mInsert name here\u001b[39m\u001b[33m'\u001b[39m\u001b[38;5;130;01m\\n\u001b[39;00m\u001b[33m\"\u001b[39m\n\u001b[32m      8\u001b[39m             \u001b[33m\"\u001b[39m\u001b[33mPersonality: \u001b[39m\u001b[33m'\u001b[39m\u001b[33mInsert personality here\u001b[39m\u001b[33m'\u001b[39m\u001b[38;5;130;01m\\n\u001b[39;00m\u001b[33m\"\u001b[39m\n\u001b[32m      9\u001b[39m             \u001b[33m\"\u001b[39m\u001b[33mAction: \u001b[39m\u001b[33m'\u001b[39m\u001b[33mInsert action here\u001b[39m\u001b[33m'\u001b[39m\u001b[38;5;130;01m\\n\u001b[39;00m\u001b[33m\"\u001b[39m\n\u001b[32m     10\u001b[39m             \u001b[33m\"\u001b[39m\u001b[33mEmotion: \u001b[39m\u001b[33m'\u001b[39m\u001b[33mInsert emotion here\u001b[39m\u001b[33m'\u001b[39m\u001b[33m.\u001b[39m\u001b[38;5;130;01m\\n\u001b[39;00m\u001b[33m\"\u001b[39m\n\u001b[32m     11\u001b[39m             \u001b[33m\"\u001b[39m\u001b[33mDialogue: \u001b[39m\u001b[33m'\u001b[39m\u001b[33mInsert response here\u001b[39m\u001b[33m'\u001b[39m\u001b[38;5;130;01m\\n\u001b[39;00m\u001b[33m\"\u001b[39m\n\u001b[32m     12\u001b[39m         )\n",
      "\u001b[31mNameError\u001b[39m: name 'name' is not defined"
     ]
    }
   ],
   "source": [
    "# self.system_prompt = (\n",
    "#             f\"You are {name}, a character with the following traits: {personality}\\n\"\n",
    "#             \"You are a character in a story. You can only see the world events and the dialogues from other companions. You can't answer for any other characters other than yourself.\\n\"\n",
    "#             \"Avoid introducing new characters and try to keep the responses short. You can only talk from your character point of view.\\n\"\n",
    "#             \"Please add an action section where you describe in 2 words what your character is going to do and it's emotional state.\\n\"\n",
    "#             \"Avoid the think output and select only one response per prompt. The response should be in the following format:\\n\"\n",
    "#             \"Name: 'Insert name here'\\n\"\n",
    "#             \"Personality: 'Insert personality here'\\n\"\n",
    "#             \"Action: 'Insert action here'\\n\"\n",
    "#             \"Emotion: 'Insert emotion here'.\\n\"\n",
    "#             \"Dialogue: 'Insert response here'\\n\"\n",
    "#         )"
   ]
  }
 ],
 "metadata": {
  "colab": {
   "name": "Welcome to DataCamp Workspaces.ipynb",
   "provenance": []
  },
  "kernelspec": {
   "display_name": ".venv",
   "language": "python",
   "name": "python3"
  },
  "language_info": {
   "codemirror_mode": {
    "name": "ipython",
    "version": 3
   },
   "file_extension": ".py",
   "mimetype": "text/x-python",
   "name": "python",
   "nbconvert_exporter": "python",
   "pygments_lexer": "ipython3",
   "version": "3.12.9"
  }
 },
 "nbformat": 4,
 "nbformat_minor": 5
}
