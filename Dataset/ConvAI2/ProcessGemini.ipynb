{
 "cells": [
  {
   "cell_type": "code",
   "execution_count": 7,
   "metadata": {},
   "outputs": [
    {
     "name": "stderr",
     "output_type": "stream",
     "text": [
      "c:\\Users\\radus\\OneDrive\\Desktop\\AI\\.venv\\Lib\\site-packages\\tqdm\\auto.py:21: TqdmWarning: IProgress not found. Please update jupyter and ipywidgets. See https://ipywidgets.readthedocs.io/en/stable/user_install.html\n",
      "  from .autonotebook import tqdm as notebook_tqdm\n"
     ]
    }
   ],
   "source": [
    "import json\n",
    "import datasets"
   ]
  },
  {
   "cell_type": "code",
   "execution_count": 9,
   "metadata": {},
   "outputs": [],
   "source": [
    "_CITATION = \"\"\"\\\n",
    "@misc{dinan2019second,\n",
    "      title={The Second Conversational Intelligence Challenge (ConvAI2)},\n",
    "      author={Emily Dinan and Varvara Logacheva and Valentin Malykh and Alexander Miller and Kurt Shuster and Jack Urbanek and Douwe Kiela and Arthur Szlam and Iulian Serban and Ryan Lowe and Shrimai Prabhumoye and Alan W Black and Alexander Rudnicky and Jason Williams and Joelle Pineau and Mikhail Burtsev and Jason Weston},\n",
    "      year={2019},\n",
    "      eprint={1902.00098},\n",
    "      archivePrefix={arXiv},\n",
    "      primaryClass={cs.AI}\n",
    "}\n",
    "\"\"\"\n",
    "\n",
    "_DESCRIPTION = \"\"\"\\\n",
    "ConvAI is a dataset of human-to-bot conversations labelled for quality. \\\n",
    "This data can be used to train a metric for evaluating dialogue systems. \\\n",
    "Moreover, it can be used in the development of chatbots themselves: it contains the information \\\n",
    "on the quality of utterances and entire dialogues, that can guide a dialogue system in search of better answers.\n",
    "\"\"\"\n",
    "\n",
    "_URL = \"https://github.com/DeepPavlov/convai/raw/master/2018/data/summer_wild_evaluation_dialogs.json\"\n",
    "\n",
    "\n",
    "class ConvAi_2(datasets.GeneratorBasedBuilder):\n",
    "    \"\"\"ConvAI: A Dataset of Topic-Oriented Human-to-Chatbot Dialogues\"\"\"\n",
    "\n",
    "    VERSION = datasets.Version(\"1.0.0\")\n",
    "    BUILDER_CONFIGS = [\n",
    "        datasets.BuilderConfig(\n",
    "            name=\"conv_ai_2\",\n",
    "            version=datasets.Version(\"1.0.0\"),\n",
    "            description=\"Full training set\",\n",
    "        ),\n",
    "    ]\n",
    "\n",
    "    def _info(self):\n",
    "        return datasets.DatasetInfo(\n",
    "            description=_DESCRIPTION,\n",
    "            features=datasets.Features(\n",
    "                {\n",
    "                    \"id\": datasets.Value(\"string\"),\n",
    "                    \"dialog_id\": datasets.Value(\"string\"),\n",
    "                    \"dialog\": [\n",
    "                        {\n",
    "                            \"id\": datasets.Value(\"int32\"),\n",
    "                            \"sender\": datasets.Value(\"string\"),\n",
    "                            \"text\": datasets.Value(\"string\"),\n",
    "                            \"sender_class\": datasets.Value(\"string\"),\n",
    "                        }\n",
    "                    ],\n",
    "                    \"bot_profile\": datasets.Sequence([datasets.Value(\"string\")]),\n",
    "                    \"user_profile\": datasets.Sequence([datasets.Value(\"string\")]),\n",
    "                    \"eval_score\": datasets.Value(\"int32\"),\n",
    "                    \"profile_match\": datasets.Value(\"int32\"),\n",
    "                }\n",
    "            ),\n",
    "            supervised_keys=None,\n",
    "            homepage=\"https://github.com/DeepPavlov/convai/tree/master/2018\",\n",
    "            citation=_CITATION,\n",
    "        )\n",
    "\n",
    "    def _split_generators(self, dl_manager):\n",
    "        downloaded_file = dl_manager.download(_URL)\n",
    "\n",
    "        return [\n",
    "            datasets.SplitGenerator(\n",
    "                name=datasets.Split.TRAIN,\n",
    "                gen_kwargs={\"filepath\": downloaded_file},\n",
    "            ),\n",
    "        ]\n",
    "\n",
    "    def _generate_examples(self, filepath):\n",
    "        with open(filepath, encoding=\"utf-8\") as f:\n",
    "            examples = json.load(f)\n",
    "            for example in examples:\n",
    "                example[\"id\"] = example[\"dialog_id\"]\n",
    "                if example[\"eval_score\"] is None:\n",
    "                    example[\"eval_score\"] = -1  # missing eval_score is replaced with -1\n",
    "                if example[\"profile_match\"] == \"\":\n",
    "                    example[\"profile_match\"] = -1  # missing profile_match is replaced with -1\n",
    "                yield example[\"id\"], example"
   ]
  }
 ],
 "metadata": {
  "kernelspec": {
   "display_name": ".venv",
   "language": "python",
   "name": "python3"
  },
  "language_info": {
   "codemirror_mode": {
    "name": "ipython",
    "version": 3
   },
   "file_extension": ".py",
   "mimetype": "text/x-python",
   "name": "python",
   "nbconvert_exporter": "python",
   "pygments_lexer": "ipython3",
   "version": "3.13.2"
  }
 },
 "nbformat": 4,
 "nbformat_minor": 2
}
