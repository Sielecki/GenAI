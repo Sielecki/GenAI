{
 "cells": [
  {
   "cell_type": "code",
   "execution_count": 4,
   "metadata": {},
   "outputs": [],
   "source": [
    "import pandas as pd\n",
    "\n",
    "text1  = '{\"contents\": [{\"role\": \"user\", \"parts\": [{\"text\":\"'\n",
    "text2  = '\"}]}, {\"role\": \"model\", \"parts\": [{\"text\": \"'\n",
    "text3  = '\"}]}]}'\n",
    "\n"
   ]
  },
  {
   "cell_type": "code",
   "execution_count": 2,
   "metadata": {},
   "outputs": [],
   "source": [
    "df = pd.read_csv('./ROCStories_train.csv')\n",
    "\n",
    "with open('./Gemini/ROCStories_train.jsonl', 'w') as f:\n",
    "    for idx, row in df.iterrows():\n",
    "        row['sentence1'] = row['sentence1'].replace('\"', '\\'')\n",
    "        row['sentence1'] = row['sentence1'].replace('\\\\', '')\n",
    "        row['sentence2'] = row['sentence2'].replace('\"', '\\'')\n",
    "        row['sentence2'] = row['sentence2'].replace('\\\\', '')\n",
    "        row['sentence3'] = row['sentence3'].replace('\"', '\\'')\n",
    "        row['sentence3'] = row['sentence3'].replace('\\\\', '')\n",
    "        row['sentence4'] = row['sentence4'].replace('\"', '\\'')\n",
    "        row['sentence4'] = row['sentence4'].replace('\\\\', '')\n",
    "        row['sentence5'] = row['sentence5'].replace('\"', '\\'')\n",
    "        row['sentence5'] = row['sentence5'].replace('\\\\', '')\n",
    "        text = text1 + row['sentence1'] +' '+ row['sentence2'] +' '+ row['sentence3'] +' '+ row['sentence4']+ text2 + row['sentence5'] + text3\n",
    "        f.write(text)\n",
    "        f.write('\\n')"
   ]
  },
  {
   "cell_type": "code",
   "execution_count": 3,
   "metadata": {},
   "outputs": [],
   "source": [
    "df = pd.read_csv('./ROCStories_val.csv')\n",
    "\n",
    "with open('./Gemini/ROCStories_val.jsonl', 'w') as f: \n",
    "    for idx, row in df.iterrows():\n",
    "        row['InputSentence1'] = row['InputSentence1'].replace('\"', '\\'')\n",
    "        row['InputSentence1'] = row['InputSentence1'].replace('\\\\', '')\n",
    "        row['InputSentence2'] = row['InputSentence2'].replace('\"', '\\'')\n",
    "        row['InputSentence2'] = row['InputSentence2'].replace('\\\\', '')\n",
    "        row['InputSentence3'] = row['InputSentence3'].replace('\"', '\\'')\n",
    "        row['InputSentence3'] = row['InputSentence3'].replace('\\\\', '')\n",
    "        row['InputSentence4'] = row['InputSentence4'].replace('\"', '\\'')\n",
    "        row['InputSentence4'] = row['InputSentence4'].replace('\\\\', '')\n",
    "        row['RandomFifthSentenceQuiz1'] = row['RandomFifthSentenceQuiz1'].replace('\"', '\\'')\n",
    "        row['RandomFifthSentenceQuiz1'] = row['RandomFifthSentenceQuiz1'].replace('\\\\', '')\n",
    "        row['RandomFifthSentenceQuiz2'] = row['RandomFifthSentenceQuiz2'].replace('\"', '\\'')\n",
    "        row['RandomFifthSentenceQuiz2'] = row['RandomFifthSentenceQuiz2'].replace('\\\\', '')\n",
    "\n",
    "        text = text1 + row['InputSentence1'] +' '+ row['InputSentence2'] +' '+ row['InputSentence3'] +' ' + ' '+ row['InputSentence4']+ 'Whitch of these next sentences fits best?' +row['RandomFifthSentenceQuiz1']+row['RandomFifthSentenceQuiz2'] + text2\n",
    "        if row['AnswerRightEnding'] == 1:\n",
    "            text += row['RandomFifthSentenceQuiz1']\n",
    "        else:\n",
    "            text += row['RandomFifthSentenceQuiz2']\n",
    "        text += text3\n",
    "        f.write(text)\n",
    "        f.write('\\n')"
   ]
  }
 ],
 "metadata": {
  "kernelspec": {
   "display_name": ".venv",
   "language": "python",
   "name": "python3"
  },
  "language_info": {
   "codemirror_mode": {
    "name": "ipython",
    "version": 3
   },
   "file_extension": ".py",
   "mimetype": "text/x-python",
   "name": "python",
   "nbconvert_exporter": "python",
   "pygments_lexer": "ipython3",
   "version": "3.13.2"
  }
 },
 "nbformat": 4,
 "nbformat_minor": 2
}
