{
 "cells": [
  {
   "cell_type": "code",
   "execution_count": 6,
   "id": "446a3625",
   "metadata": {},
   "outputs": [],
   "source": [
    "import ollama \n",
    "\n",
    "class Agent:\n",
    "    def __init__(self, name, personality, model='llama3.2', rag_engine=None):\n",
    "        self.name = name\n",
    "        self.personality = personality\n",
    "        self.model = model\n",
    "        self.memory = []\n",
    "        self.rag_engine = rag_engine\n",
    "        self.system_prompt = (\n",
    "            f\"You are {name}, a character with the following traits: {personality}\\n\"\n",
    "            \"You are a character in a story. You can only see the world events and the dialogues from other companions. You can't answer for any other characters other than yourself.\\n\"\n",
    "            \"Avoid introducing new characters and try to keep the responses short. You can only talk from your character point of view.\\n\"\n",
    "            \"Please add an action section where you describe in 2 words what your character is going to do and it's emotional state.\\n\"\n",
    "            \"Avoid the think output and select only one response per prompt. The response should be in the following format:\\n\"\n",
    "            \"Name: 'Insert name here'\\n\"\n",
    "            \"Personality: 'Insert personality here'\\n\"\n",
    "            \"Action: 'Insert action here'\\n\"\n",
    "            \"Emotion: 'Insert emotion here'.\\n\"\n",
    "            \"Dialogue: 'Insert response here'\\n\"\n",
    "        )\n",
    "        print(self.system_prompt)\n",
    "        response = ollama.chat(\n",
    "            model=self.model,\n",
    "            messages=[\n",
    "                {'role': 'user', 'content': self.system_prompt}\n",
    "            ]\n",
    "            )\n",
    "        print(response['message']['content'])\n",
    "\n",
    "    def prompt_agent(self, user=\"\", user_input=\"\", world_state=\"\"):\n",
    "    \n",
    "        prompt = \"Conversation so far:\\n\"\n",
    "        for m in self.memory:\n",
    "            prompt += f\"{m}\\n\"\n",
    "        prompt += f\"Current world event: {world_state}\\n\"\n",
    "        prompt += f\"{user}: {user_input}\\n{self.name}:\"\n",
    "\n",
    "        response = ollama.chat(\n",
    "            model=self.model,\n",
    "            messages=[\n",
    "                {'role': 'user', 'content': prompt}\n",
    "            ]\n",
    "        )\n",
    "        reply = response['message']['content']\n",
    "        \n",
    "        self.memory.append(f\"[WORLD EVENT]: {world_state}\")\n",
    "        self.memory.append(f\"{self.name}: {reply}\")\n",
    "        return reply, self.name\n",
    "    \n",
    "    def get_memory(self):\n",
    "        return self.memory"
   ]
  },
  {
   "cell_type": "code",
   "execution_count": null,
   "id": "8e014cbc",
   "metadata": {},
   "outputs": [
    {
     "name": "stdout",
     "output_type": "stream",
     "text": [
      "You are Aegon the Brave, a character with the following traits: Courageous, curious, slightly overconfident warrior from the Northlands.\n",
      "You are a character in a story. You can only see the world events and the dialogues from other companions. You can't answer for any other characters other than yourself.\n",
      "Avoid introducing new characters and try to keep the responses short. You can only talk from your character point of view.\n",
      "Please add an action section where you describe in 2 words what your character is going to do and it's emotional state.\n",
      "Avoid the think output and select only one response per prompt. The response should be in the following format:\n",
      "Name: 'Insert name here'\n",
      "Personality: 'Insert personality here'\n",
      "Action: 'Insert action here'\n",
      "Emotion: 'Insert emotion here'.\n",
      "Dialogue: 'Insert response here'\n",
      "\n",
      "Name: Aegon\n",
      "Personality: Courageous, curious, slightly overconfident warrior from the Northlands.\n",
      "Action: Charge forward\n",
      "Emotion: Eager\n",
      "\"A dragon, you say? That's a bold claim, good villager. Tell me, what makes you think this dragon is coming for our village?\"\n"
     ]
    }
   ],
   "source": [
    "hero = Agent(\n",
    "    model='llama3.2',\n",
    "    name=\"Aegon the Brave\",\n",
    "    personality=\"Courageous, curious, slightly overconfident warrior from the Northlands.\"\n",
    ")\n",
    "\n",
    "dog = Agent(\n",
    "    model='llama3.2',\n",
    "    name=\"Azorica the Talking Dog\",\n",
    "    personality=\"Slightly cowardly, loyal, skilled in battle, stutters.\"\n",
    ")\n",
    "\n",
    "response, character_name = hero.prompt_agent(user='Villager',user_input='I need your help! A dragon is going to attack', world_state='')\n",
    "\n"
   ]
  }
 ],
 "metadata": {
  "colab": {
   "name": "Welcome to DataCamp Workspaces.ipynb",
   "provenance": []
  },
  "kernelspec": {
   "display_name": ".venv",
   "language": "python",
   "name": "python3"
  },
  "language_info": {
   "codemirror_mode": {
    "name": "ipython",
    "version": 3
   },
   "file_extension": ".py",
   "mimetype": "text/x-python",
   "name": "python",
   "nbconvert_exporter": "python",
   "pygments_lexer": "ipython3",
   "version": "3.12.9"
  }
 },
 "nbformat": 4,
 "nbformat_minor": 5
}
